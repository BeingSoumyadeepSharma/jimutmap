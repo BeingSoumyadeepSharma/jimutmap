{
 "cells": [
  {
   "cell_type": "code",
   "execution_count": null,
   "metadata": {},
   "outputs": [],
   "source": [
    "! mkdir satellite_data"
   ]
  },
  {
   "cell_type": "code",
   "execution_count": 5,
   "metadata": {
    "colab": {
     "base_uri": "https://localhost:8080/",
     "height": 34
    },
    "colab_type": "code",
    "id": "S5RcjoIqGYop",
    "outputId": "1db69974-e766-4078-f00b-baab9b703044"
   },
   "outputs": [
    {
     "name": "stdout",
     "output_type": "stream",
     "text": [
      "maps_scraper.ipynb  \u001b[0m\u001b[01;34msatellite_data\u001b[0m/\n"
     ]
    }
   ],
   "source": [
    "ls"
   ]
  },
  {
   "cell_type": "code",
   "execution_count": 10,
   "metadata": {
    "colab": {
     "base_uri": "https://localhost:8080/",
     "height": 225
    },
    "colab_type": "code",
    "id": "SzgfzqjKGl6Z",
    "outputId": "816f98b8-2498-4e05-8fbe-aabd90367789"
   },
   "outputs": [
    {
     "name": "stdout",
     "output_type": "stream",
     "text": [
      "Collecting jimutmap==1.2.3\n",
      "  Downloading https://files.pythonhosted.org/packages/fd/93/d2080d33776f65f6931384bfe88a345dc11d15b60e63b06116d10cdc325a/jimutmap-1.2.3-py3-none-any.whl\n",
      "Requirement already satisfied: tqdm in /usr/local/lib/python3.6/dist-packages (from jimutmap==1.2.3) (4.28.1)\n",
      "Requirement already satisfied: bs4 in /usr/local/lib/python3.6/dist-packages (from jimutmap==1.2.3) (0.0.1)\n",
      "Requirement already satisfied: numpy in /usr/local/lib/python3.6/dist-packages (from jimutmap==1.2.3) (1.16.3)\n",
      "Requirement already satisfied: wget in /usr/local/lib/python3.6/dist-packages (from jimutmap==1.2.3) (3.2)\n",
      "Requirement already satisfied: beautifulsoup4 in /usr/local/lib/python3.6/dist-packages (from bs4->jimutmap==1.2.3) (4.6.3)\n",
      "Installing collected packages: jimutmap\n",
      "  Found existing installation: jimutmap 1.2\n",
      "    Uninstalling jimutmap-1.2:\n",
      "      Successfully uninstalled jimutmap-1.2\n",
      "Successfully installed jimutmap-1.2.3\n"
     ]
    }
   ],
   "source": [
    "!pip install jimutmap"
   ]
  },
  {
   "cell_type": "code",
   "execution_count": 0,
   "metadata": {
    "colab": {},
    "colab_type": "code",
    "id": "_G4GTJtAyvOb"
   },
   "outputs": [],
   "source": [
    "from jimutmap import api"
   ]
  },
  {
   "cell_type": "code",
   "execution_count": 15,
   "metadata": {
    "colab": {
     "base_uri": "https://localhost:8080/",
     "height": 34
    },
    "colab_type": "code",
    "id": "JuMoKuybGpSK",
    "outputId": "c4f0884a-11a7-4c5c-c7fc-9228a45c14e1"
   },
   "outputs": [
    {
     "name": "stdout",
     "output_type": "stream",
     "text": [
      "&accessKey=1556957582_5699820822942227569_%2F_BbjVy4ZdPoRiQSah4MozFWXmVl6IjDhjDTh%2BSpPV7Rs%3D&emphasis=standard&tint=dark 23 25 8 10 19 False 170\n"
     ]
    }
   ],
   "source": [
    "# firstly use the latest API key as shown in the video\n",
    "# use min lat then max lat, similarly min lon then max lon\n",
    "\n",
    "a=api('&accessKey=1556957582_5699820822942227569_%2F_BbjVy4ZdPoRiQSah4MozFWXmVl6IjDhjDTh%2BSpPV7Rs%3D&emphasis=standard&tint=dark',23,25,8,10,threads_=20)"
   ]
  },
  {
   "cell_type": "code",
   "execution_count": 0,
   "metadata": {
    "colab": {
     "base_uri": "https://localhost:8080/",
     "height": 34
    },
    "colab_type": "code",
    "id": "LppO4ZdaHJgB",
    "outputId": "66eca7c4-aec8-4a31-c1a7-2279ef934f2d"
   },
   "outputs": [
    {
     "name": "stderr",
     "output_type": "stream",
     "text": [
      " 49%|████▉     | 1953/4000 [00:43<00:43, 46.60it/s]"
     ]
    }
   ],
   "source": [
    "a.download()"
   ]
  },
  {
   "cell_type": "code",
   "execution_count": 0,
   "metadata": {
    "colab": {
     "base_uri": "https://localhost:8080/",
     "height": 34
    },
    "colab_type": "code",
    "id": "B4KRa8hNHen0",
    "outputId": "1c0d91cf-ce3d-444a-ec7a-61738db147bd"
   },
   "outputs": [
    {
     "name": "stdout",
     "output_type": "stream",
     "text": [
      "149M\t.\n"
     ]
    }
   ],
   "source": [
    "!du -hs"
   ]
  },
  {
   "cell_type": "code",
   "execution_count": 0,
   "metadata": {
    "colab": {},
    "colab_type": "code",
    "id": "c9SotP9QMa2E"
   },
   "outputs": [],
   "source": [
    "! mv *.jpeg satellite_data/\n",
    "! mv *.png satellite_data/"
   ]
  },
  {
   "cell_type": "code",
   "execution_count": 0,
   "metadata": {
    "colab": {},
    "colab_type": "code",
    "id": "NOru2gMQQnkm"
   },
   "outputs": [],
   "source": [
    "#!rm -rf satellite_data/\n",
    "!du -hs satellite_data"
   ]
  },
  {
   "cell_type": "code",
   "execution_count": null,
   "metadata": {},
   "outputs": [],
   "source": [
    "! zip -r satellite_data.zip satellite_data"
   ]
  },
  {
   "cell_type": "code",
   "execution_count": null,
   "metadata": {},
   "outputs": [],
   "source": [
    "## Download the satellite data to your computer from colab!"
   ]
  }
 ],
 "metadata": {
  "accelerator": "GPU",
  "colab": {
   "collapsed_sections": [],
   "name": "maps_scraper.ipynb",
   "provenance": [],
   "version": "0.3.2"
  },
  "kernelspec": {
   "display_name": "Python 3",
   "language": "python",
   "name": "python3"
  },
  "language_info": {
   "codemirror_mode": {
    "name": "ipython",
    "version": 3
   },
   "file_extension": ".py",
   "mimetype": "text/x-python",
   "name": "python",
   "nbconvert_exporter": "python",
   "pygments_lexer": "ipython3",
   "version": "3.8.5"
  }
 },
 "nbformat": 4,
 "nbformat_minor": 1
}
