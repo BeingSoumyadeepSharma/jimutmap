{
 "cells": [
  {
   "cell_type": "markdown",
   "metadata": {},
   "source": [
    "Python 3.5 or later"
   ]
  },
  {
   "cell_type": "code",
   "execution_count": 1,
   "metadata": {
    "ExecuteTime": {
     "end_time": "2018-09-30T04:36:02.721107Z",
     "start_time": "2018-09-30T04:35:45.249375Z"
    }
   },
   "outputs": [],
   "source": [
    "import math\n",
    "import requests\n",
    "import shutil\n",
    "import os\n",
    "from time import sleep"
   ]
  },
  {
   "cell_type": "code",
   "execution_count": 3,
   "metadata": {
    "ExecuteTime": {
     "end_time": "2018-09-30T04:36:11.166602Z",
     "start_time": "2018-09-30T04:36:11.156599Z"
    }
   },
   "outputs": [],
   "source": [
    "#convert degree to tile number\n",
    "def deg2num(lat_deg, lon_deg, zoom):\n",
    "    lat_rad = math.radians(lat_deg)\n",
    "    n = 2.0 ** zoom\n",
    "    xtile = int((lon_deg + 180.0) / 360.0 * n)\n",
    "    ytile = int((1.0 - math.log(math.tan(lat_rad) + (1 / math.cos(lat_rad))) / math.pi) / 2.0 * n)\n",
    "    return (xtile, ytile)"
   ]
  },
  {
   "cell_type": "code",
   "execution_count": 4,
   "metadata": {
    "ExecuteTime": {
     "end_time": "2018-09-30T04:36:11.820637Z",
     "start_time": "2018-09-30T04:36:11.815659Z"
    }
   },
   "outputs": [],
   "source": [
    "os.makedirs('data',exist_ok=True)"
   ]
  },
  {
   "cell_type": "code",
   "execution_count": 5,
   "metadata": {
    "ExecuteTime": {
     "end_time": "2018-09-30T04:36:12.836683Z",
     "start_time": "2018-09-30T04:36:12.819684Z"
    }
   },
   "outputs": [],
   "source": [
    "ACCESS_TOKEN=\"pk.eyJ1IjoiaW5pdHJ1IiwiYSI6ImNqYXNiczcyYTFrODYyeG1pdmk2cXZlemMifQ.llXkc2vY4v-Cc31k19SAkg\"\n",
    "def download_tile(x, y,zoom,dim=512):\n",
    "    url = f'https://api.mapbox.com/styles/v1/initru/cjb1sr77mdq7t2rn7pkb0brzc/tiles/{dim}/{zoom}/{x}/{y}?access_token={ACCESS_TOKEN}'\n",
    "    try:\n",
    "        response = requests.get(url, stream=True)\n",
    "        with open(f'data/{x}_{y}.jpeg', 'wb') as out_file:\n",
    "            shutil.copyfileobj(response.raw, out_file)\n",
    "        del response\n",
    "    except:\n",
    "        print(f'Err: {x},{y}')"
   ]
  },
  {
   "cell_type": "code",
   "execution_count": 20,
   "metadata": {
    "ExecuteTime": {
     "end_time": "2018-09-30T10:56:26.938747Z",
     "start_time": "2018-09-30T10:56:26.921738Z"
    }
   },
   "outputs": [],
   "source": [
    "#Single Thread\n",
    "def download(lat_1,lng_1,lat_2,lng_2,zoom):\n",
    "    c=0\n",
    "    un_down=[]\n",
    "    xt1,yt1 = deg2num(lat_1,lng_1,zoom)\n",
    "    xt2,yt2 = deg2num(lat_2,lng_2,zoom)\n",
    "    ncol = abs(xt1-xt2)\n",
    "    nrow = abs(yt1-yt2)\n",
    "    print(f'xt1,yt1:{xt1},{yt1} and xt2,yt2: {xt2},{yt2}')\n",
    "    print(f'ncol:{ncol}, nrow:{nrow}')\n",
    "    print(f'= {ncol*nrow} images')\n",
    "    for x in range(xt1,xt2+1):\n",
    "        for y in range(yt1,yt2+1):\n",
    "            path=f'data/{x}_{y}.jpeg'\n",
    "            if os.path.isfile(path):\n",
    "                c=c+1\n",
    "            else:\n",
    "                download_tile(x,y,zoom)"
   ]
  },
  {
   "cell_type": "code",
   "execution_count": null,
   "metadata": {},
   "outputs": [],
   "source": [
    "#REPLACE THE VALUES\n",
    "lat_top_left = 0.0\n",
    "long_top_left = 0.0\n",
    "\n",
    "lat_bottom_right = 0.0\n",
    "long_bottom_right = 0.0"
   ]
  },
  {
   "cell_type": "code",
   "execution_count": 1,
   "metadata": {
    "ExecuteTime": {
     "end_time": "2018-10-09T08:39:35.802610Z",
     "start_time": "2018-10-09T08:39:35.797608Z"
    }
   },
   "outputs": [],
   "source": [
    "download(lat_top_left, long_top_left, lat_bottom_right, long_bottom_left, 17) #17 is the zoom level"
   ]
  }
 ],
 "metadata": {
  "kernelspec": {
   "display_name": "Python 3",
   "language": "python",
   "name": "python3"
  },
  "language_info": {
   "codemirror_mode": {
    "name": "ipython",
    "version": 3
   },
   "file_extension": ".py",
   "mimetype": "text/x-python",
   "name": "python",
   "nbconvert_exporter": "python",
   "pygments_lexer": "ipython3",
   "version": "3.6.5"
  }
 },
 "nbformat": 4,
 "nbformat_minor": 2
}
