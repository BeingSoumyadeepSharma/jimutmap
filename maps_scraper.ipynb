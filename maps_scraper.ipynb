{
  "nbformat": 4,
  "nbformat_minor": 0,
  "metadata": {
    "colab": {
      "name": "maps_scraper.ipynb",
      "version": "0.3.2",
      "provenance": [],
      "collapsed_sections": []
    },
    "kernelspec": {
      "name": "python3",
      "display_name": "Python 3"
    },
    "accelerator": "GPU"
  },
  "cells": [
    {
      "cell_type": "code",
      "metadata": {
        "id": "1f2OfG1BF_gu",
        "colab_type": "code",
        "outputId": "4d66b09d-a944-4f54-c5cc-f197f9451293",
        "colab": {
          "base_uri": "https://localhost:8080/",
          "height": 34
        }
      },
      "source": [
        "from google.colab import drive\n",
        "drive.mount('/content/drive',force_remount=True)"
      ],
      "execution_count": 2,
      "outputs": [
        {
          "output_type": "stream",
          "text": [
            "Mounted at /content/drive\n"
          ],
          "name": "stdout"
        }
      ]
    },
    {
      "cell_type": "code",
      "metadata": {
        "id": "Mwq539adGOTY",
        "colab_type": "code",
        "outputId": "b189f9d1-204d-4828-80a7-2e1d91528695",
        "colab": {
          "base_uri": "https://localhost:8080/",
          "height": 34
        }
      },
      "source": [
        "cd /"
      ],
      "execution_count": 3,
      "outputs": [
        {
          "output_type": "stream",
          "text": [
            "/\n"
          ],
          "name": "stdout"
        }
      ]
    },
    {
      "cell_type": "code",
      "metadata": {
        "id": "TVaiPx18GVer",
        "colab_type": "code",
        "outputId": "f51ee5f9-f531-4122-da61-c3f2243153da",
        "colab": {
          "base_uri": "https://localhost:8080/",
          "height": 34
        }
      },
      "source": [
        "cd /content/drive/My\\ Drive/'Colab Notebooks'/MAPS"
      ],
      "execution_count": 4,
      "outputs": [
        {
          "output_type": "stream",
          "text": [
            "/content/drive/My Drive/Colab Notebooks/MAPS\n"
          ],
          "name": "stdout"
        }
      ]
    },
    {
      "cell_type": "code",
      "metadata": {
        "id": "S5RcjoIqGYop",
        "colab_type": "code",
        "outputId": "1db69974-e766-4078-f00b-baab9b703044",
        "colab": {
          "base_uri": "https://localhost:8080/",
          "height": 34
        }
      },
      "source": [
        "ls"
      ],
      "execution_count": 5,
      "outputs": [
        {
          "output_type": "stream",
          "text": [
            "maps_scraper.ipynb  \u001b[0m\u001b[01;34msatellite_data\u001b[0m/\n"
          ],
          "name": "stdout"
        }
      ]
    },
    {
      "cell_type": "code",
      "metadata": {
        "id": "I37JdU-xGbYm",
        "colab_type": "code",
        "colab": {}
      },
      "source": [
        "\n"
      ],
      "execution_count": 0,
      "outputs": []
    },
    {
      "cell_type": "code",
      "metadata": {
        "id": "SzgfzqjKGl6Z",
        "colab_type": "code",
        "outputId": "816f98b8-2498-4e05-8fbe-aabd90367789",
        "colab": {
          "base_uri": "https://localhost:8080/",
          "height": 225
        }
      },
      "source": [
        "!pip install jimutmap==1.2.3"
      ],
      "execution_count": 10,
      "outputs": [
        {
          "output_type": "stream",
          "text": [
            "Collecting jimutmap==1.2.3\n",
            "  Downloading https://files.pythonhosted.org/packages/fd/93/d2080d33776f65f6931384bfe88a345dc11d15b60e63b06116d10cdc325a/jimutmap-1.2.3-py3-none-any.whl\n",
            "Requirement already satisfied: tqdm in /usr/local/lib/python3.6/dist-packages (from jimutmap==1.2.3) (4.28.1)\n",
            "Requirement already satisfied: bs4 in /usr/local/lib/python3.6/dist-packages (from jimutmap==1.2.3) (0.0.1)\n",
            "Requirement already satisfied: numpy in /usr/local/lib/python3.6/dist-packages (from jimutmap==1.2.3) (1.16.3)\n",
            "Requirement already satisfied: wget in /usr/local/lib/python3.6/dist-packages (from jimutmap==1.2.3) (3.2)\n",
            "Requirement already satisfied: beautifulsoup4 in /usr/local/lib/python3.6/dist-packages (from bs4->jimutmap==1.2.3) (4.6.3)\n",
            "Installing collected packages: jimutmap\n",
            "  Found existing installation: jimutmap 1.2\n",
            "    Uninstalling jimutmap-1.2:\n",
            "      Successfully uninstalled jimutmap-1.2\n",
            "Successfully installed jimutmap-1.2.3\n"
          ],
          "name": "stdout"
        }
      ]
    },
    {
      "cell_type": "code",
      "metadata": {
        "id": "_G4GTJtAyvOb",
        "colab_type": "code",
        "colab": {}
      },
      "source": [
        "\n",
        "from jimutmap import api"
      ],
      "execution_count": 0,
      "outputs": []
    },
    {
      "cell_type": "code",
      "metadata": {
        "id": "JuMoKuybGpSK",
        "colab_type": "code",
        "outputId": "c4f0884a-11a7-4c5c-c7fc-9228a45c14e1",
        "colab": {
          "base_uri": "https://localhost:8080/",
          "height": 34
        }
      },
      "source": [
        "a=api('&accessKey=1556957582_5699820822942227569_%2F_BbjVy4ZdPoRiQSah4MozFWXmVl6IjDhjDTh%2BSpPV7Rs%3D&emphasis=standard&tint=dark',23,25,8,10,threads_=170)\n"
      ],
      "execution_count": 15,
      "outputs": [
        {
          "output_type": "stream",
          "text": [
            "&accessKey=1556957582_5699820822942227569_%2F_BbjVy4ZdPoRiQSah4MozFWXmVl6IjDhjDTh%2BSpPV7Rs%3D&emphasis=standard&tint=dark 23 25 8 10 19 False 170\n"
          ],
          "name": "stdout"
        }
      ]
    },
    {
      "cell_type": "code",
      "metadata": {
        "id": "LppO4ZdaHJgB",
        "colab_type": "code",
        "outputId": "66eca7c4-aec8-4a31-c1a7-2279ef934f2d",
        "colab": {
          "base_uri": "https://localhost:8080/",
          "height": 34
        }
      },
      "source": [
        "a.download()"
      ],
      "execution_count": 0,
      "outputs": [
        {
          "output_type": "stream",
          "text": [
            " 49%|████▉     | 1953/4000 [00:43<00:43, 46.60it/s]"
          ],
          "name": "stderr"
        }
      ]
    },
    {
      "cell_type": "code",
      "metadata": {
        "id": "B4KRa8hNHen0",
        "colab_type": "code",
        "outputId": "1c0d91cf-ce3d-444a-ec7a-61738db147bd",
        "colab": {
          "base_uri": "https://localhost:8080/",
          "height": 34
        }
      },
      "source": [
        "#!apt-get install du\n",
        "!du -hs"
      ],
      "execution_count": 0,
      "outputs": [
        {
          "output_type": "stream",
          "text": [
            "149M\t.\n"
          ],
          "name": "stdout"
        }
      ]
    },
    {
      "cell_type": "code",
      "metadata": {
        "id": "c9SotP9QMa2E",
        "colab_type": "code",
        "colab": {}
      },
      "source": [
        "mv *.jpeg satellite_data/"
      ],
      "execution_count": 0,
      "outputs": []
    },
    {
      "cell_type": "code",
      "metadata": {
        "id": "NOru2gMQQnkm",
        "colab_type": "code",
        "colab": {}
      },
      "source": [
        "#!rm -rf satellite_data/\n"
      ],
      "execution_count": 0,
      "outputs": []
    },
    {
      "cell_type": "code",
      "metadata": {
        "id": "aExsowyGTO5J",
        "colab_type": "code",
        "colab": {}
      },
      "source": [
        "ls"
      ],
      "execution_count": 0,
      "outputs": []
    },
    {
      "cell_type": "code",
      "metadata": {
        "id": "YKnaKWoLTV2L",
        "colab_type": "code",
        "colab": {}
      },
      "source": [
        "mv *.jpeg satellite_data/"
      ],
      "execution_count": 0,
      "outputs": []
    },
    {
      "cell_type": "code",
      "metadata": {
        "id": "zpgbWbsS_FxQ",
        "colab_type": "code",
        "outputId": "96f77556-954a-468f-c286-a4cce8684d1c",
        "colab": {
          "base_uri": "https://localhost:8080/",
          "height": 34
        }
      },
      "source": [
        "ls"
      ],
      "execution_count": 0,
      "outputs": [
        {
          "output_type": "stream",
          "text": [
            "maps_scraper.ipynb  \u001b[0m\u001b[01;34msatellite_data\u001b[0m/\n"
          ],
          "name": "stdout"
        }
      ]
    },
    {
      "cell_type": "code",
      "metadata": {
        "id": "avc9HanAJ4Hs",
        "colab_type": "code",
        "colab": {}
      },
      "source": [
        ""
      ],
      "execution_count": 0,
      "outputs": []
    }
  ]
}